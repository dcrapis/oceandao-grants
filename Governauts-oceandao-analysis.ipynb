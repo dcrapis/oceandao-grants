{
 "cells": [
  {
   "cell_type": "code",
   "execution_count": 10,
   "id": "6e8fff75-6a97-47bf-a0e6-993ae0367cdc",
   "metadata": {},
   "outputs": [],
   "source": [
    "import pandas as pd\n",
    "import numpy as np\n",
    "import matplotlib.pyplot as plt"
   ]
  },
  {
   "cell_type": "code",
   "execution_count": 2,
   "id": "367d1f2c-3f5e-4cfe-b8f7-786a54e6e8a2",
   "metadata": {},
   "outputs": [
    {
     "data": {
      "text/html": [
       "<div>\n",
       "<style scoped>\n",
       "    .dataframe tbody tr th:only-of-type {\n",
       "        vertical-align: middle;\n",
       "    }\n",
       "\n",
       "    .dataframe tbody tr th {\n",
       "        vertical-align: top;\n",
       "    }\n",
       "\n",
       "    .dataframe thead th {\n",
       "        text-align: right;\n",
       "    }\n",
       "</style>\n",
       "<table border=\"1\" class=\"dataframe\">\n",
       "  <thead>\n",
       "    <tr style=\"text-align: right;\">\n",
       "      <th></th>\n",
       "      <th>address</th>\n",
       "      <th>balance</th>\n",
       "      <th>Vote</th>\n",
       "      <th>Round</th>\n",
       "      <th>Project Name</th>\n",
       "      <th>Proposal State</th>\n",
       "      <th>Grant Category</th>\n",
       "      <th>Earmarks</th>\n",
       "      <th>OCEAN Granted</th>\n",
       "    </tr>\n",
       "  </thead>\n",
       "  <tbody>\n",
       "    <tr>\n",
       "      <th>0</th>\n",
       "      <td>0x9e95B6c35a43A61B06F19d21FBe008f17B1f5e44</td>\n",
       "      <td>300.011809</td>\n",
       "      <td>Yes</td>\n",
       "      <td>1</td>\n",
       "      <td>Wisdom Of the Web</td>\n",
       "      <td>Not Granted</td>\n",
       "      <td>Build &amp; Integrate</td>\n",
       "      <td>General</td>\n",
       "      <td>0.0</td>\n",
       "    </tr>\n",
       "    <tr>\n",
       "      <th>1</th>\n",
       "      <td>0x01e66950353400E93AEe7F041C0303103E2ef5Ab</td>\n",
       "      <td>5271.992999</td>\n",
       "      <td>Yes</td>\n",
       "      <td>1</td>\n",
       "      <td>Operation Plankton</td>\n",
       "      <td>Not Granted</td>\n",
       "      <td>Outreach</td>\n",
       "      <td>General</td>\n",
       "      <td>0.0</td>\n",
       "    </tr>\n",
       "    <tr>\n",
       "      <th>2</th>\n",
       "      <td>0x362CfE20851584DF00a670b2c8460A3aafD35839</td>\n",
       "      <td>3268.114915</td>\n",
       "      <td>Yes</td>\n",
       "      <td>1</td>\n",
       "      <td>Operation Plankton</td>\n",
       "      <td>Not Granted</td>\n",
       "      <td>Outreach</td>\n",
       "      <td>General</td>\n",
       "      <td>0.0</td>\n",
       "    </tr>\n",
       "    <tr>\n",
       "      <th>3</th>\n",
       "      <td>0x1Daf0b27e0F54a235abb5D52D276033394Eb8F49</td>\n",
       "      <td>567.687949</td>\n",
       "      <td>Yes</td>\n",
       "      <td>1</td>\n",
       "      <td>Ocean Academy</td>\n",
       "      <td>Funded</td>\n",
       "      <td>Outreach</td>\n",
       "      <td>General</td>\n",
       "      <td>13000.0</td>\n",
       "    </tr>\n",
       "    <tr>\n",
       "      <th>4</th>\n",
       "      <td>0xcC7E9b8331bea863a158589E8EBCF118C72d0683</td>\n",
       "      <td>7084.813123</td>\n",
       "      <td>Yes</td>\n",
       "      <td>1</td>\n",
       "      <td>Ocean Academy</td>\n",
       "      <td>Funded</td>\n",
       "      <td>Outreach</td>\n",
       "      <td>General</td>\n",
       "      <td>13000.0</td>\n",
       "    </tr>\n",
       "  </tbody>\n",
       "</table>\n",
       "</div>"
      ],
      "text/plain": [
       "                                      address      balance Vote  Round  \\\n",
       "0  0x9e95B6c35a43A61B06F19d21FBe008f17B1f5e44   300.011809  Yes      1   \n",
       "1  0x01e66950353400E93AEe7F041C0303103E2ef5Ab  5271.992999  Yes      1   \n",
       "2  0x362CfE20851584DF00a670b2c8460A3aafD35839  3268.114915  Yes      1   \n",
       "3  0x1Daf0b27e0F54a235abb5D52D276033394Eb8F49   567.687949  Yes      1   \n",
       "4  0xcC7E9b8331bea863a158589E8EBCF118C72d0683  7084.813123  Yes      1   \n",
       "\n",
       "         Project Name Proposal State     Grant Category Earmarks  \\\n",
       "0   Wisdom Of the Web    Not Granted  Build & Integrate  General   \n",
       "1  Operation Plankton    Not Granted           Outreach  General   \n",
       "2  Operation Plankton    Not Granted           Outreach  General   \n",
       "3       Ocean Academy         Funded           Outreach  General   \n",
       "4       Ocean Academy         Funded           Outreach  General   \n",
       "\n",
       "   OCEAN Granted  \n",
       "0            0.0  \n",
       "1            0.0  \n",
       "2            0.0  \n",
       "3        13000.0  \n",
       "4        13000.0  "
      ]
     },
     "execution_count": 2,
     "metadata": {},
     "output_type": "execute_result"
    }
   ],
   "source": [
    "data_url = 'https://raw.githubusercontent.com/andrewpenland/OceanProtocol-Rounds-Data/main/ocean-votes-round-1-to-10.csv'\n",
    "df = pd.read_csv(data_url, index_col=0)\n",
    "df.head()"
   ]
  },
  {
   "cell_type": "code",
   "execution_count": 29,
   "id": "463706bf-d09c-4f85-81b4-dbfb6d0ab564",
   "metadata": {},
   "outputs": [
    {
     "name": "stdout",
     "output_type": "stream",
     "text": [
      "(33054, 3)\n"
     ]
    },
    {
     "data": {
      "text/html": [
       "<div>\n",
       "<style scoped>\n",
       "    .dataframe tbody tr th:only-of-type {\n",
       "        vertical-align: middle;\n",
       "    }\n",
       "\n",
       "    .dataframe tbody tr th {\n",
       "        vertical-align: top;\n",
       "    }\n",
       "\n",
       "    .dataframe thead th {\n",
       "        text-align: right;\n",
       "    }\n",
       "</style>\n",
       "<table border=\"1\" class=\"dataframe\">\n",
       "  <thead>\n",
       "    <tr style=\"text-align: right;\">\n",
       "      <th></th>\n",
       "      <th>HolderAddress</th>\n",
       "      <th>Balance</th>\n",
       "      <th>PendingBalanceUpdate</th>\n",
       "    </tr>\n",
       "  </thead>\n",
       "  <tbody>\n",
       "    <tr>\n",
       "      <th>0</th>\n",
       "      <td>0x7df5273ad9a6fcce64d45c64c1e43cfb6f861725</td>\n",
       "      <td>1.864205e-04</td>\n",
       "      <td>No</td>\n",
       "    </tr>\n",
       "    <tr>\n",
       "      <th>1</th>\n",
       "      <td>0xfbb1b73c4f0bda4f67dca266ce6ef42f520fbb98</td>\n",
       "      <td>8.245614e+06</td>\n",
       "      <td>No</td>\n",
       "    </tr>\n",
       "    <tr>\n",
       "      <th>2</th>\n",
       "      <td>0x8aa8c6b8897665d62d03e4c6dfc823142a4b44d8</td>\n",
       "      <td>2.000000e-03</td>\n",
       "      <td>No</td>\n",
       "    </tr>\n",
       "    <tr>\n",
       "      <th>3</th>\n",
       "      <td>0x3155674fccb839d6c229dbcc8463ccc32cb36710</td>\n",
       "      <td>2.838473e+06</td>\n",
       "      <td>No</td>\n",
       "    </tr>\n",
       "    <tr>\n",
       "      <th>4</th>\n",
       "      <td>0x31ba114e64d5c3c9b9123a3a19771b65c820a811</td>\n",
       "      <td>5.268272e+06</td>\n",
       "      <td>No</td>\n",
       "    </tr>\n",
       "  </tbody>\n",
       "</table>\n",
       "</div>"
      ],
      "text/plain": [
       "                                HolderAddress       Balance  \\\n",
       "0  0x7df5273ad9a6fcce64d45c64c1e43cfb6f861725  1.864205e-04   \n",
       "1  0xfbb1b73c4f0bda4f67dca266ce6ef42f520fbb98  8.245614e+06   \n",
       "2  0x8aa8c6b8897665d62d03e4c6dfc823142a4b44d8  2.000000e-03   \n",
       "3  0x3155674fccb839d6c229dbcc8463ccc32cb36710  2.838473e+06   \n",
       "4  0x31ba114e64d5c3c9b9123a3a19771b65c820a811  5.268272e+06   \n",
       "\n",
       "  PendingBalanceUpdate  \n",
       "0                   No  \n",
       "1                   No  \n",
       "2                   No  \n",
       "3                   No  \n",
       "4                   No  "
      ]
     },
     "execution_count": 29,
     "metadata": {},
     "output_type": "execute_result"
    }
   ],
   "source": [
    "data_url2 = 'https://raw.githubusercontent.com/Crypto-Phil/ocean_rewards/main/export-tokenholders-for-contract-0x967da4048cD07aB37855c090aAF366e4ce1b9F48.csv'\n",
    "df2 = pd.read_csv(data_url2)\n",
    "print(df2.shape)\n",
    "df2.head()"
   ]
  },
  {
   "cell_type": "code",
   "execution_count": 30,
   "id": "08bda6df-43f1-4a79-9fd1-b737b88eaadb",
   "metadata": {},
   "outputs": [
    {
     "data": {
      "text/html": [
       "<div>\n",
       "<style scoped>\n",
       "    .dataframe tbody tr th:only-of-type {\n",
       "        vertical-align: middle;\n",
       "    }\n",
       "\n",
       "    .dataframe tbody tr th {\n",
       "        vertical-align: top;\n",
       "    }\n",
       "\n",
       "    .dataframe thead th {\n",
       "        text-align: right;\n",
       "    }\n",
       "</style>\n",
       "<table border=\"1\" class=\"dataframe\">\n",
       "  <thead>\n",
       "    <tr style=\"text-align: right;\">\n",
       "      <th></th>\n",
       "      <th>HolderAddress</th>\n",
       "      <th>Balance</th>\n",
       "      <th>PendingBalanceUpdate</th>\n",
       "    </tr>\n",
       "  </thead>\n",
       "  <tbody>\n",
       "    <tr>\n",
       "      <th>26689</th>\n",
       "      <td>0xd5e6219a79c5cc61b9074331d1b05a6f35c5a48a</td>\n",
       "      <td>9.429978e+07</td>\n",
       "      <td>No</td>\n",
       "    </tr>\n",
       "    <tr>\n",
       "      <th>19500</th>\n",
       "      <td>0xf977814e90da44bfa03b6295a0616a897441acec</td>\n",
       "      <td>4.625952e+07</td>\n",
       "      <td>No</td>\n",
       "    </tr>\n",
       "    <tr>\n",
       "      <th>9917</th>\n",
       "      <td>0xbe0eb53f46cd790cd13851d5eff43d12404d33e8</td>\n",
       "      <td>3.357751e+07</td>\n",
       "      <td>No</td>\n",
       "    </tr>\n",
       "    <tr>\n",
       "      <th>18771</th>\n",
       "      <td>0x53ab4a93b31f480d17d3440a6329bda86869458a</td>\n",
       "      <td>3.255219e+07</td>\n",
       "      <td>No</td>\n",
       "    </tr>\n",
       "    <tr>\n",
       "      <th>26100</th>\n",
       "      <td>0x0fa9e77f7c2bd1c15ad18a97271f3d5181d686bf</td>\n",
       "      <td>2.350000e+07</td>\n",
       "      <td>No</td>\n",
       "    </tr>\n",
       "  </tbody>\n",
       "</table>\n",
       "</div>"
      ],
      "text/plain": [
       "                                    HolderAddress       Balance  \\\n",
       "26689  0xd5e6219a79c5cc61b9074331d1b05a6f35c5a48a  9.429978e+07   \n",
       "19500  0xf977814e90da44bfa03b6295a0616a897441acec  4.625952e+07   \n",
       "9917   0xbe0eb53f46cd790cd13851d5eff43d12404d33e8  3.357751e+07   \n",
       "18771  0x53ab4a93b31f480d17d3440a6329bda86869458a  3.255219e+07   \n",
       "26100  0x0fa9e77f7c2bd1c15ad18a97271f3d5181d686bf  2.350000e+07   \n",
       "\n",
       "      PendingBalanceUpdate  \n",
       "26689                   No  \n",
       "19500                   No  \n",
       "9917                    No  \n",
       "18771                   No  \n",
       "26100                   No  "
      ]
     },
     "execution_count": 30,
     "metadata": {},
     "output_type": "execute_result"
    }
   ],
   "source": [
    "df2.sort_values('Balance', ascending=False).head()"
   ]
  },
  {
   "cell_type": "code",
   "execution_count": 28,
   "id": "adb1d6db-2dbd-4e5e-bce3-0c83783e204b",
   "metadata": {},
   "outputs": [
    {
     "data": {
      "text/html": [
       "<div>\n",
       "<style scoped>\n",
       "    .dataframe tbody tr th:only-of-type {\n",
       "        vertical-align: middle;\n",
       "    }\n",
       "\n",
       "    .dataframe tbody tr th {\n",
       "        vertical-align: top;\n",
       "    }\n",
       "\n",
       "    .dataframe thead th {\n",
       "        text-align: right;\n",
       "    }\n",
       "</style>\n",
       "<table border=\"1\" class=\"dataframe\">\n",
       "  <thead>\n",
       "    <tr style=\"text-align: right;\">\n",
       "      <th></th>\n",
       "      <th>Round</th>\n",
       "      <th>balance</th>\n",
       "      <th>fraction</th>\n",
       "    </tr>\n",
       "  </thead>\n",
       "  <tbody>\n",
       "    <tr>\n",
       "      <th>0</th>\n",
       "      <td>1</td>\n",
       "      <td>3.257733e+06</td>\n",
       "      <td>0.006279</td>\n",
       "    </tr>\n",
       "    <tr>\n",
       "      <th>1</th>\n",
       "      <td>2</td>\n",
       "      <td>1.195649e+06</td>\n",
       "      <td>0.002305</td>\n",
       "    </tr>\n",
       "    <tr>\n",
       "      <th>2</th>\n",
       "      <td>3</td>\n",
       "      <td>3.712733e+06</td>\n",
       "      <td>0.007156</td>\n",
       "    </tr>\n",
       "    <tr>\n",
       "      <th>3</th>\n",
       "      <td>4</td>\n",
       "      <td>3.060886e+06</td>\n",
       "      <td>0.005900</td>\n",
       "    </tr>\n",
       "    <tr>\n",
       "      <th>4</th>\n",
       "      <td>5</td>\n",
       "      <td>1.168502e+07</td>\n",
       "      <td>0.022523</td>\n",
       "    </tr>\n",
       "    <tr>\n",
       "      <th>5</th>\n",
       "      <td>6</td>\n",
       "      <td>1.117569e+07</td>\n",
       "      <td>0.021541</td>\n",
       "    </tr>\n",
       "    <tr>\n",
       "      <th>6</th>\n",
       "      <td>7</td>\n",
       "      <td>2.179240e+07</td>\n",
       "      <td>0.042005</td>\n",
       "    </tr>\n",
       "    <tr>\n",
       "      <th>7</th>\n",
       "      <td>8</td>\n",
       "      <td>2.141962e+07</td>\n",
       "      <td>0.041286</td>\n",
       "    </tr>\n",
       "    <tr>\n",
       "      <th>8</th>\n",
       "      <td>9</td>\n",
       "      <td>1.730843e+07</td>\n",
       "      <td>0.033362</td>\n",
       "    </tr>\n",
       "    <tr>\n",
       "      <th>9</th>\n",
       "      <td>10</td>\n",
       "      <td>1.684062e+08</td>\n",
       "      <td>0.324601</td>\n",
       "    </tr>\n",
       "  </tbody>\n",
       "</table>\n",
       "</div>"
      ],
      "text/plain": [
       "   Round       balance  fraction\n",
       "0      1  3.257733e+06  0.006279\n",
       "1      2  1.195649e+06  0.002305\n",
       "2      3  3.712733e+06  0.007156\n",
       "3      4  3.060886e+06  0.005900\n",
       "4      5  1.168502e+07  0.022523\n",
       "5      6  1.117569e+07  0.021541\n",
       "6      7  2.179240e+07  0.042005\n",
       "7      8  2.141962e+07  0.041286\n",
       "8      9  1.730843e+07  0.033362\n",
       "9     10  1.684062e+08  0.324601"
      ]
     },
     "execution_count": 28,
     "metadata": {},
     "output_type": "execute_result"
    }
   ],
   "source": [
    "circulating_supply = df2['Balance'].sum() - 94299780\n",
    "total_votes = df[['Round', 'balance']].groupby('Round').sum().reset_index()\n",
    "total_votes['fraction'] = total_votes['balance'] / circulating_supply\n",
    "total_votes"
   ]
  },
  {
   "cell_type": "code",
   "execution_count": 26,
   "id": "60986d1b-2cc4-4a09-982e-57558ba082bd",
   "metadata": {},
   "outputs": [
    {
     "data": {
      "text/plain": [
       "<AxesSubplot:>"
      ]
     },
     "execution_count": 26,
     "metadata": {},
     "output_type": "execute_result"
    },
    {
     "data": {
      "image/png": "[encoded data removed]",
      "text/plain": [
       "<Figure size 432x288 with 1 Axes>"
      ]
     },
     "metadata": {
      "needs_background": "light"
     },
     "output_type": "display_data"
    }
   ],
   "source": [
    "total_votes['fraction'].plot()"
   ]
  },
  {
   "cell_type": "code",
   "execution_count": 3,
   "id": "b3f77ca5-49d5-4e60-b83e-fdaeb20995a2",
   "metadata": {},
   "outputs": [],
   "source": [
    "df['is_funded'] = df['OCEAN Granted'] > 0"
   ]
  },
  {
   "cell_type": "code",
   "execution_count": 4,
   "id": "74716148-342d-4133-a5aa-c50e21d257bd",
   "metadata": {},
   "outputs": [
    {
     "data": {
      "text/plain": [
       "<AxesSubplot:xlabel='Round', ylabel='balance'>"
      ]
     },
     "execution_count": 4,
     "metadata": {},
     "output_type": "execute_result"
    },
    {
     "data": {
      "image/png": "[encoded data removed]",
      "text/plain": [
       "<Figure size 432x288 with 1 Axes>"
      ]
     },
     "metadata": {
      "needs_background": "light"
     },
     "output_type": "display_data"
    }
   ],
   "source": [
    "# votes cast per address\n",
    "df.plot.scatter('Round', 'balance')"
   ]
  },
  {
   "cell_type": "code",
   "execution_count": 14,
   "id": "753c07cc-b74f-467f-9796-5906481e8e76",
   "metadata": {},
   "outputs": [
    {
     "data": {
      "text/plain": [
       "<AxesSubplot:xlabel='Round', ylabel='OCEAN Granted'>"
      ]
     },
     "execution_count": 14,
     "metadata": {},
     "output_type": "execute_result"
    },
    {
     "data": {
      "image/png": "[encoded data removed]",
      "text/plain": [
       "<Figure size 432x288 with 1 Axes>"
      ]
     },
     "metadata": {
      "needs_background": "light"
     },
     "output_type": "display_data"
    }
   ],
   "source": [
    "# ocean received per project\n",
    "df.plot.scatter('Round', 'OCEAN Granted')"
   ]
  },
  {
   "cell_type": "code",
   "execution_count": 5,
   "id": "175adc2d-2e16-466c-8c51-9df036798bcf",
   "metadata": {},
   "outputs": [
    {
     "data": {
      "text/html": [
       "<div>\n",
       "<style scoped>\n",
       "    .dataframe tbody tr th:only-of-type {\n",
       "        vertical-align: middle;\n",
       "    }\n",
       "\n",
       "    .dataframe tbody tr th {\n",
       "        vertical-align: top;\n",
       "    }\n",
       "\n",
       "    .dataframe thead th {\n",
       "        text-align: right;\n",
       "    }\n",
       "</style>\n",
       "<table border=\"1\" class=\"dataframe\">\n",
       "  <thead>\n",
       "    <tr style=\"text-align: right;\">\n",
       "      <th></th>\n",
       "      <th>total_votes</th>\n",
       "      <th>total_grants</th>\n",
       "    </tr>\n",
       "    <tr>\n",
       "      <th>Round</th>\n",
       "      <th></th>\n",
       "      <th></th>\n",
       "    </tr>\n",
       "  </thead>\n",
       "  <tbody>\n",
       "    <tr>\n",
       "      <th>1</th>\n",
       "      <td>3.257733e+06</td>\n",
       "      <td>65000.0</td>\n",
       "    </tr>\n",
       "    <tr>\n",
       "      <th>2</th>\n",
       "      <td>1.195649e+06</td>\n",
       "      <td>90000.0</td>\n",
       "    </tr>\n",
       "    <tr>\n",
       "      <th>3</th>\n",
       "      <td>3.712733e+06</td>\n",
       "      <td>120000.0</td>\n",
       "    </tr>\n",
       "    <tr>\n",
       "      <th>4</th>\n",
       "      <td>3.060886e+06</td>\n",
       "      <td>91000.0</td>\n",
       "    </tr>\n",
       "    <tr>\n",
       "      <th>5</th>\n",
       "      <td>1.168502e+07</td>\n",
       "      <td>112500.0</td>\n",
       "    </tr>\n",
       "    <tr>\n",
       "      <th>6</th>\n",
       "      <td>1.117569e+07</td>\n",
       "      <td>272000.0</td>\n",
       "    </tr>\n",
       "    <tr>\n",
       "      <th>7</th>\n",
       "      <td>2.179240e+07</td>\n",
       "      <td>400000.0</td>\n",
       "    </tr>\n",
       "    <tr>\n",
       "      <th>8</th>\n",
       "      <td>2.141962e+07</td>\n",
       "      <td>365244.0</td>\n",
       "    </tr>\n",
       "    <tr>\n",
       "      <th>9</th>\n",
       "      <td>1.730843e+07</td>\n",
       "      <td>349001.0</td>\n",
       "    </tr>\n",
       "    <tr>\n",
       "      <th>10</th>\n",
       "      <td>1.684062e+08</td>\n",
       "      <td>158546.0</td>\n",
       "    </tr>\n",
       "  </tbody>\n",
       "</table>\n",
       "</div>"
      ],
      "text/plain": [
       "        total_votes  total_grants\n",
       "Round                            \n",
       "1      3.257733e+06       65000.0\n",
       "2      1.195649e+06       90000.0\n",
       "3      3.712733e+06      120000.0\n",
       "4      3.060886e+06       91000.0\n",
       "5      1.168502e+07      112500.0\n",
       "6      1.117569e+07      272000.0\n",
       "7      2.179240e+07      400000.0\n",
       "8      2.141962e+07      365244.0\n",
       "9      1.730843e+07      349001.0\n",
       "10     1.684062e+08      158546.0"
      ]
     },
     "execution_count": 5,
     "metadata": {},
     "output_type": "execute_result"
    }
   ],
   "source": [
    "df.groupby('Round').apply(lambda x: pd.Series(dict(\n",
    "    total_votes = sum(x['balance']), \n",
    "    total_grants = sum(x.groupby('Project Name').max()['OCEAN Granted']),\n",
    "    \n",
    ")))"
   ]
  },
  {
   "cell_type": "code",
   "execution_count": 6,
   "id": "1d10cba4-b045-402b-b852-79ceaf9bbac4",
   "metadata": {},
   "outputs": [],
   "source": [
    "df1 = df[['address', 'balance', 'Round']].groupby(['address', 'Round']).sum('balance').sort_values('balance').reset_index()"
   ]
  },
  {
   "cell_type": "code",
   "execution_count": 7,
   "id": "f1ffe200-2b84-4919-9f31-ce6692cec711",
   "metadata": {},
   "outputs": [],
   "source": [
    "df2 = df1.groupby('address').mean('balance').reset_index()"
   ]
  },
  {
   "cell_type": "code",
   "execution_count": 8,
   "id": "68492ce0-a30b-4fa0-b4a9-ea4d0b07f173",
   "metadata": {},
   "outputs": [
    {
     "data": {
      "text/plain": [
       "count    3.960000e+02\n",
       "mean     3.395815e+05\n",
       "std      1.756710e+06\n",
       "min      1.026050e-02\n",
       "25%      1.200928e+03\n",
       "50%      1.000032e+04\n",
       "75%      6.942072e+04\n",
       "max      2.898808e+07\n",
       "Name: balance, dtype: float64"
      ]
     },
     "execution_count": 8,
     "metadata": {},
     "output_type": "execute_result"
    }
   ],
   "source": [
    "df2['balance'].describe()"
   ]
  },
  {
   "cell_type": "code",
   "execution_count": 9,
   "id": "e4b0985a-7c93-4a4d-9d5c-cff47a51fbbe",
   "metadata": {},
   "outputs": [],
   "source": [
    "whale_threshold = df2['balance'].quantile(0.95)"
   ]
  },
  {
   "cell_type": "code",
   "execution_count": 10,
   "id": "e99c8ba5-defa-42a1-ba66-2fcf141b3e2f",
   "metadata": {},
   "outputs": [
    {
     "data": {
      "text/html": [
       "<div>\n",
       "<style scoped>\n",
       "    .dataframe tbody tr th:only-of-type {\n",
       "        vertical-align: middle;\n",
       "    }\n",
       "\n",
       "    .dataframe tbody tr th {\n",
       "        vertical-align: top;\n",
       "    }\n",
       "\n",
       "    .dataframe thead th {\n",
       "        text-align: right;\n",
       "    }\n",
       "</style>\n",
       "<table border=\"1\" class=\"dataframe\">\n",
       "  <thead>\n",
       "    <tr style=\"text-align: right;\">\n",
       "      <th></th>\n",
       "      <th>address</th>\n",
       "      <th>balance</th>\n",
       "      <th>Vote</th>\n",
       "      <th>Round</th>\n",
       "      <th>Project Name</th>\n",
       "      <th>Proposal State</th>\n",
       "      <th>Grant Category</th>\n",
       "      <th>Earmarks</th>\n",
       "      <th>OCEAN Granted</th>\n",
       "      <th>is_funded</th>\n",
       "      <th>is_whale</th>\n",
       "    </tr>\n",
       "  </thead>\n",
       "  <tbody>\n",
       "    <tr>\n",
       "      <th>0</th>\n",
       "      <td>0x9e95B6c35a43A61B06F19d21FBe008f17B1f5e44</td>\n",
       "      <td>300.011809</td>\n",
       "      <td>Yes</td>\n",
       "      <td>1</td>\n",
       "      <td>Wisdom Of the Web</td>\n",
       "      <td>Not Granted</td>\n",
       "      <td>Build &amp; Integrate</td>\n",
       "      <td>General</td>\n",
       "      <td>0.0</td>\n",
       "      <td>False</td>\n",
       "      <td>False</td>\n",
       "    </tr>\n",
       "    <tr>\n",
       "      <th>1</th>\n",
       "      <td>0x01e66950353400E93AEe7F041C0303103E2ef5Ab</td>\n",
       "      <td>5271.992999</td>\n",
       "      <td>Yes</td>\n",
       "      <td>1</td>\n",
       "      <td>Operation Plankton</td>\n",
       "      <td>Not Granted</td>\n",
       "      <td>Outreach</td>\n",
       "      <td>General</td>\n",
       "      <td>0.0</td>\n",
       "      <td>False</td>\n",
       "      <td>False</td>\n",
       "    </tr>\n",
       "    <tr>\n",
       "      <th>2</th>\n",
       "      <td>0x01e66950353400E93AEe7F041C0303103E2ef5Ab</td>\n",
       "      <td>15000.732000</td>\n",
       "      <td>Yes</td>\n",
       "      <td>2</td>\n",
       "      <td>German AI/ML</td>\n",
       "      <td>Funded</td>\n",
       "      <td>Outreach</td>\n",
       "      <td>General</td>\n",
       "      <td>10000.0</td>\n",
       "      <td>True</td>\n",
       "      <td>False</td>\n",
       "    </tr>\n",
       "    <tr>\n",
       "      <th>3</th>\n",
       "      <td>0x01e66950353400E93AEe7F041C0303103E2ef5Ab</td>\n",
       "      <td>23962.652544</td>\n",
       "      <td>Yes</td>\n",
       "      <td>3</td>\n",
       "      <td>German AI/ML</td>\n",
       "      <td>Funded</td>\n",
       "      <td>Outreach</td>\n",
       "      <td>General</td>\n",
       "      <td>10000.0</td>\n",
       "      <td>True</td>\n",
       "      <td>False</td>\n",
       "    </tr>\n",
       "    <tr>\n",
       "      <th>4</th>\n",
       "      <td>0x01e66950353400E93AEe7F041C0303103E2ef5Ab</td>\n",
       "      <td>47773.328300</td>\n",
       "      <td>Yes</td>\n",
       "      <td>4</td>\n",
       "      <td>deltaDAO</td>\n",
       "      <td>Funded</td>\n",
       "      <td>Outreach</td>\n",
       "      <td>General</td>\n",
       "      <td>6500.0</td>\n",
       "      <td>True</td>\n",
       "      <td>False</td>\n",
       "    </tr>\n",
       "  </tbody>\n",
       "</table>\n",
       "</div>"
      ],
      "text/plain": [
       "                                      address       balance Vote  Round  \\\n",
       "0  0x9e95B6c35a43A61B06F19d21FBe008f17B1f5e44    300.011809  Yes      1   \n",
       "1  0x01e66950353400E93AEe7F041C0303103E2ef5Ab   5271.992999  Yes      1   \n",
       "2  0x01e66950353400E93AEe7F041C0303103E2ef5Ab  15000.732000  Yes      2   \n",
       "3  0x01e66950353400E93AEe7F041C0303103E2ef5Ab  23962.652544  Yes      3   \n",
       "4  0x01e66950353400E93AEe7F041C0303103E2ef5Ab  47773.328300  Yes      4   \n",
       "\n",
       "         Project Name Proposal State     Grant Category Earmarks  \\\n",
       "0   Wisdom Of the Web    Not Granted  Build & Integrate  General   \n",
       "1  Operation Plankton    Not Granted           Outreach  General   \n",
       "2        German AI/ML         Funded           Outreach  General   \n",
       "3        German AI/ML         Funded           Outreach  General   \n",
       "4            deltaDAO         Funded           Outreach  General   \n",
       "\n",
       "   OCEAN Granted  is_funded  is_whale  \n",
       "0            0.0      False     False  \n",
       "1            0.0      False     False  \n",
       "2        10000.0       True     False  \n",
       "3        10000.0       True     False  \n",
       "4         6500.0       True     False  "
      ]
     },
     "execution_count": 10,
     "metadata": {},
     "output_type": "execute_result"
    }
   ],
   "source": [
    "df2['is_whale'] = df2['balance'] > whale_threshold\n",
    "df = df.merge(df2[['address', 'is_whale']])\n",
    "df.head()"
   ]
  },
  {
   "cell_type": "code",
   "execution_count": 11,
   "id": "c8e95f31-c174-444e-8a0b-604b482c6dc9",
   "metadata": {},
   "outputs": [
    {
     "data": {
      "text/plain": [
       "False    376\n",
       "True      20\n",
       "Name: is_whale, dtype: int64"
      ]
     },
     "execution_count": 11,
     "metadata": {},
     "output_type": "execute_result"
    }
   ],
   "source": [
    "df2['is_whale'].value_counts()"
   ]
  },
  {
   "cell_type": "markdown",
   "id": "53408e19-8685-4b78-82b1-07aecc620006",
   "metadata": {},
   "source": [
    "# 😭 Very poor vote distribution\n",
    "\n",
    "Top 5% of voters casted 25% of the total vote. This is due to both **unequal token distribution** and the fact that before R11 **voters could spend their tokens multiple times**"
   ]
  },
  {
   "cell_type": "code",
   "execution_count": 12,
   "id": "12a1cc94-d7ce-4b31-8451-18c8f829cc6b",
   "metadata": {},
   "outputs": [
    {
     "data": {
      "text/plain": [
       "0.25316455696202533"
      ]
     },
     "execution_count": 12,
     "metadata": {},
     "output_type": "execute_result"
    }
   ],
   "source": [
    "40/158"
   ]
  },
  {
   "cell_type": "code",
   "execution_count": 175,
   "id": "15715740-4af0-4bf2-a5de-c2cb6622e1eb",
   "metadata": {},
   "outputs": [
    {
     "data": {
      "text/plain": [
       "<AxesSubplot:>"
      ]
     },
     "execution_count": 175,
     "metadata": {},
     "output_type": "execute_result"
    },
    {
     "data": {
      "image/png": "[encoded data removed]",
      "text/plain": [
       "<Figure size 432x288 with 1 Axes>"
      ]
     },
     "metadata": {
      "needs_background": "light"
     },
     "output_type": "display_data"
    }
   ],
   "source": [
    "df2['balance'].hist(cumulative=True, density=1, bins=40)"
   ]
  },
  {
   "cell_type": "code",
   "execution_count": 13,
   "id": "4f64d43a-55cd-4a0e-9da0-4b81bc536f02",
   "metadata": {},
   "outputs": [
    {
     "data": {
      "text/html": [
       "<div>\n",
       "<style scoped>\n",
       "    .dataframe tbody tr th:only-of-type {\n",
       "        vertical-align: middle;\n",
       "    }\n",
       "\n",
       "    .dataframe tbody tr th {\n",
       "        vertical-align: top;\n",
       "    }\n",
       "\n",
       "    .dataframe thead th {\n",
       "        text-align: right;\n",
       "    }\n",
       "</style>\n",
       "<table border=\"1\" class=\"dataframe\">\n",
       "  <thead>\n",
       "    <tr style=\"text-align: right;\">\n",
       "      <th></th>\n",
       "      <th>address</th>\n",
       "      <th>total_votes</th>\n",
       "      <th>voted_y</th>\n",
       "      <th>voted_n</th>\n",
       "      <th>voted_y_count</th>\n",
       "      <th>voted_n_count</th>\n",
       "      <th>funded_y</th>\n",
       "      <th>funded_n</th>\n",
       "      <th>is_whale</th>\n",
       "    </tr>\n",
       "  </thead>\n",
       "  <tbody>\n",
       "    <tr>\n",
       "      <th>0</th>\n",
       "      <td>0x00100aed252E58b02A4Ee9432e09C5A269e8840A</td>\n",
       "      <td>810000.000000</td>\n",
       "      <td>351000.000000</td>\n",
       "      <td>459000.00000</td>\n",
       "      <td>13</td>\n",
       "      <td>17</td>\n",
       "      <td>7</td>\n",
       "      <td>2</td>\n",
       "      <td>False</td>\n",
       "    </tr>\n",
       "    <tr>\n",
       "      <th>1</th>\n",
       "      <td>0x006D0f31A00E1f9c017Ab039E9d0BA699433A28c</td>\n",
       "      <td>132207.356501</td>\n",
       "      <td>132207.356501</td>\n",
       "      <td>0.00000</td>\n",
       "      <td>2</td>\n",
       "      <td>0</td>\n",
       "      <td>1</td>\n",
       "      <td>0</td>\n",
       "      <td>False</td>\n",
       "    </tr>\n",
       "    <tr>\n",
       "      <th>2</th>\n",
       "      <td>0x008ed443F31a4b3aEe02fbFe61c7572dDaf3A679</td>\n",
       "      <td>39607.394400</td>\n",
       "      <td>39607.394400</td>\n",
       "      <td>0.00000</td>\n",
       "      <td>36</td>\n",
       "      <td>0</td>\n",
       "      <td>26</td>\n",
       "      <td>0</td>\n",
       "      <td>False</td>\n",
       "    </tr>\n",
       "    <tr>\n",
       "      <th>3</th>\n",
       "      <td>0x009Ec7D76feBECAbd5c73CB13f6d0FB83e45D450</td>\n",
       "      <td>181944.537199</td>\n",
       "      <td>81875.041740</td>\n",
       "      <td>100069.49546</td>\n",
       "      <td>9</td>\n",
       "      <td>11</td>\n",
       "      <td>6</td>\n",
       "      <td>1</td>\n",
       "      <td>False</td>\n",
       "    </tr>\n",
       "    <tr>\n",
       "      <th>4</th>\n",
       "      <td>0x01199c7c4d490FA953Ed5E452a2C7EbF43fef48B</td>\n",
       "      <td>0.010261</td>\n",
       "      <td>0.010261</td>\n",
       "      <td>0.00000</td>\n",
       "      <td>1</td>\n",
       "      <td>0</td>\n",
       "      <td>0</td>\n",
       "      <td>0</td>\n",
       "      <td>False</td>\n",
       "    </tr>\n",
       "  </tbody>\n",
       "</table>\n",
       "</div>"
      ],
      "text/plain": [
       "                                      address    total_votes        voted_y  \\\n",
       "0  0x00100aed252E58b02A4Ee9432e09C5A269e8840A  810000.000000  351000.000000   \n",
       "1  0x006D0f31A00E1f9c017Ab039E9d0BA699433A28c  132207.356501  132207.356501   \n",
       "2  0x008ed443F31a4b3aEe02fbFe61c7572dDaf3A679   39607.394400   39607.394400   \n",
       "3  0x009Ec7D76feBECAbd5c73CB13f6d0FB83e45D450  181944.537199   81875.041740   \n",
       "4  0x01199c7c4d490FA953Ed5E452a2C7EbF43fef48B       0.010261       0.010261   \n",
       "\n",
       "        voted_n  voted_y_count  voted_n_count  funded_y  funded_n  is_whale  \n",
       "0  459000.00000             13             17         7         2     False  \n",
       "1       0.00000              2              0         1         0     False  \n",
       "2       0.00000             36              0        26         0     False  \n",
       "3  100069.49546              9             11         6         1     False  \n",
       "4       0.00000              1              0         0         0     False  "
      ]
     },
     "execution_count": 13,
     "metadata": {},
     "output_type": "execute_result"
    }
   ],
   "source": [
    "dfz = df.groupby('address').apply(lambda x: pd.Series(dict(\n",
    "    total_votes = sum(x['balance']),\n",
    "    voted_y = sum(x[x['Vote']=='Yes']['balance']),\n",
    "    voted_n = sum(x[x['Vote']=='No']['balance']),\n",
    "    voted_y_count = np.count_nonzero(x[x['Vote']=='Yes']['balance']),\n",
    "    voted_n_count = np.count_nonzero(x[x['Vote']=='No']['balance']),\n",
    "    funded_y = sum(x[x['Vote']=='Yes']['is_funded']),\n",
    "    funded_n = sum(x[x['Vote']=='No']['is_funded']),\n",
    "    is_whale = max(x['is_whale'])\n",
    "))).reset_index()\n",
    "\n",
    "dfz.head()"
   ]
  },
  {
   "cell_type": "code",
   "execution_count": 14,
   "id": "13c592f6-0cae-4c20-a273-410621d70a66",
   "metadata": {},
   "outputs": [],
   "source": [
    "dfz['fraction_y'] = dfz['voted_y_count'] / (dfz['voted_y_count'] + dfz['voted_n_count'])\n",
    "dfz['fraction_success_y'] = dfz['funded_y'] / dfz['voted_y_count']\n",
    "dfz['fraction_success_n'] = dfz['funded_n'] / dfz['voted_n_count']"
   ]
  },
  {
   "cell_type": "code",
   "execution_count": 15,
   "id": "c90a3dbc-f140-47b1-96f7-fafa0b4ee179",
   "metadata": {},
   "outputs": [
    {
     "data": {
      "text/html": [
       "<div>\n",
       "<style scoped>\n",
       "    .dataframe tbody tr th:only-of-type {\n",
       "        vertical-align: middle;\n",
       "    }\n",
       "\n",
       "    .dataframe tbody tr th {\n",
       "        vertical-align: top;\n",
       "    }\n",
       "\n",
       "    .dataframe thead th {\n",
       "        text-align: right;\n",
       "    }\n",
       "</style>\n",
       "<table border=\"1\" class=\"dataframe\">\n",
       "  <thead>\n",
       "    <tr style=\"text-align: right;\">\n",
       "      <th></th>\n",
       "      <th>total_votes</th>\n",
       "      <th>voted_y</th>\n",
       "      <th>voted_n</th>\n",
       "      <th>voted_y_count</th>\n",
       "      <th>voted_n_count</th>\n",
       "      <th>funded_y</th>\n",
       "      <th>funded_n</th>\n",
       "      <th>fraction_y</th>\n",
       "      <th>fraction_success_y</th>\n",
       "      <th>fraction_success_n</th>\n",
       "    </tr>\n",
       "  </thead>\n",
       "  <tbody>\n",
       "    <tr>\n",
       "      <th>count</th>\n",
       "      <td>3.960000e+02</td>\n",
       "      <td>3.960000e+02</td>\n",
       "      <td>3.960000e+02</td>\n",
       "      <td>396.000000</td>\n",
       "      <td>396.000000</td>\n",
       "      <td>396.000000</td>\n",
       "      <td>396.000000</td>\n",
       "      <td>396.000000</td>\n",
       "      <td>392.000000</td>\n",
       "      <td>87.000000</td>\n",
       "    </tr>\n",
       "    <tr>\n",
       "      <th>mean</th>\n",
       "      <td>6.641776e+05</td>\n",
       "      <td>4.151343e+05</td>\n",
       "      <td>2.490433e+05</td>\n",
       "      <td>6.398990</td>\n",
       "      <td>1.212121</td>\n",
       "      <td>4.623737</td>\n",
       "      <td>0.292929</td>\n",
       "      <td>0.920458</td>\n",
       "      <td>0.770920</td>\n",
       "      <td>0.298713</td>\n",
       "    </tr>\n",
       "    <tr>\n",
       "      <th>std</th>\n",
       "      <td>2.651842e+06</td>\n",
       "      <td>1.608597e+06</td>\n",
       "      <td>1.539421e+06</td>\n",
       "      <td>10.701823</td>\n",
       "      <td>3.543645</td>\n",
       "      <td>7.945214</td>\n",
       "      <td>1.003816</td>\n",
       "      <td>0.194989</td>\n",
       "      <td>0.308895</td>\n",
       "      <td>0.378545</td>\n",
       "    </tr>\n",
       "    <tr>\n",
       "      <th>min</th>\n",
       "      <td>1.026050e-02</td>\n",
       "      <td>0.000000e+00</td>\n",
       "      <td>0.000000e+00</td>\n",
       "      <td>0.000000</td>\n",
       "      <td>0.000000</td>\n",
       "      <td>0.000000</td>\n",
       "      <td>0.000000</td>\n",
       "      <td>0.000000</td>\n",
       "      <td>0.000000</td>\n",
       "      <td>0.000000</td>\n",
       "    </tr>\n",
       "    <tr>\n",
       "      <th>25%</th>\n",
       "      <td>1.565394e+03</td>\n",
       "      <td>1.450773e+03</td>\n",
       "      <td>0.000000e+00</td>\n",
       "      <td>1.000000</td>\n",
       "      <td>0.000000</td>\n",
       "      <td>1.000000</td>\n",
       "      <td>0.000000</td>\n",
       "      <td>1.000000</td>\n",
       "      <td>0.600000</td>\n",
       "      <td>0.000000</td>\n",
       "    </tr>\n",
       "    <tr>\n",
       "      <th>50%</th>\n",
       "      <td>1.442608e+04</td>\n",
       "      <td>1.355777e+04</td>\n",
       "      <td>0.000000e+00</td>\n",
       "      <td>2.000000</td>\n",
       "      <td>0.000000</td>\n",
       "      <td>2.000000</td>\n",
       "      <td>0.000000</td>\n",
       "      <td>1.000000</td>\n",
       "      <td>1.000000</td>\n",
       "      <td>0.111111</td>\n",
       "    </tr>\n",
       "    <tr>\n",
       "      <th>75%</th>\n",
       "      <td>1.387308e+05</td>\n",
       "      <td>1.094013e+05</td>\n",
       "      <td>0.000000e+00</td>\n",
       "      <td>7.000000</td>\n",
       "      <td>0.000000</td>\n",
       "      <td>5.000000</td>\n",
       "      <td>0.000000</td>\n",
       "      <td>1.000000</td>\n",
       "      <td>1.000000</td>\n",
       "      <td>0.625000</td>\n",
       "    </tr>\n",
       "    <tr>\n",
       "      <th>max</th>\n",
       "      <td>2.898808e+07</td>\n",
       "      <td>1.898482e+07</td>\n",
       "      <td>1.976460e+07</td>\n",
       "      <td>85.000000</td>\n",
       "      <td>28.000000</td>\n",
       "      <td>65.000000</td>\n",
       "      <td>9.000000</td>\n",
       "      <td>1.000000</td>\n",
       "      <td>1.000000</td>\n",
       "      <td>1.000000</td>\n",
       "    </tr>\n",
       "  </tbody>\n",
       "</table>\n",
       "</div>"
      ],
      "text/plain": [
       "        total_votes       voted_y       voted_n  voted_y_count  voted_n_count  \\\n",
       "count  3.960000e+02  3.960000e+02  3.960000e+02     396.000000     396.000000   \n",
       "mean   6.641776e+05  4.151343e+05  2.490433e+05       6.398990       1.212121   \n",
       "std    2.651842e+06  1.608597e+06  1.539421e+06      10.701823       3.543645   \n",
       "min    1.026050e-02  0.000000e+00  0.000000e+00       0.000000       0.000000   \n",
       "25%    1.565394e+03  1.450773e+03  0.000000e+00       1.000000       0.000000   \n",
       "50%    1.442608e+04  1.355777e+04  0.000000e+00       2.000000       0.000000   \n",
       "75%    1.387308e+05  1.094013e+05  0.000000e+00       7.000000       0.000000   \n",
       "max    2.898808e+07  1.898482e+07  1.976460e+07      85.000000      28.000000   \n",
       "\n",
       "         funded_y    funded_n  fraction_y  fraction_success_y  \\\n",
       "count  396.000000  396.000000  396.000000          392.000000   \n",
       "mean     4.623737    0.292929    0.920458            0.770920   \n",
       "std      7.945214    1.003816    0.194989            0.308895   \n",
       "min      0.000000    0.000000    0.000000            0.000000   \n",
       "25%      1.000000    0.000000    1.000000            0.600000   \n",
       "50%      2.000000    0.000000    1.000000            1.000000   \n",
       "75%      5.000000    0.000000    1.000000            1.000000   \n",
       "max     65.000000    9.000000    1.000000            1.000000   \n",
       "\n",
       "       fraction_success_n  \n",
       "count           87.000000  \n",
       "mean             0.298713  \n",
       "std              0.378545  \n",
       "min              0.000000  \n",
       "25%              0.000000  \n",
       "50%              0.111111  \n",
       "75%              0.625000  \n",
       "max              1.000000  "
      ]
     },
     "execution_count": 15,
     "metadata": {},
     "output_type": "execute_result"
    }
   ],
   "source": [
    "dfz.describe()"
   ]
  },
  {
   "cell_type": "markdown",
   "id": "452728c1-5c26-4842-aea0-6ffd3cab1697",
   "metadata": {},
   "source": [
    "# H1\n",
    "\n",
    "The **vote-yes success rate** of whale addresses is **higher but similar** to non-whale\n",
    "\n",
    "The **vote-no success rate** of whale addresses is **lower** than non-whale"
   ]
  },
  {
   "cell_type": "code",
   "execution_count": 16,
   "id": "af540f3a-3cb9-415d-85e8-77d12ff35d41",
   "metadata": {},
   "outputs": [
    {
     "data": {
      "text/plain": [
       "is_whale\n",
       "False    0.769504\n",
       "True     0.804182\n",
       "Name: fraction_success_y, dtype: float64"
      ]
     },
     "execution_count": 16,
     "metadata": {},
     "output_type": "execute_result"
    }
   ],
   "source": [
    "dfz.groupby('is_whale').mean()['fraction_success_y']"
   ]
  },
  {
   "cell_type": "code",
   "execution_count": 17,
   "id": "8b4547f6-515d-49e9-843d-363e7e14f2ff",
   "metadata": {},
   "outputs": [
    {
     "data": {
      "text/plain": [
       "is_whale\n",
       "False    0.321374\n",
       "True     0.198154\n",
       "Name: fraction_success_n, dtype: float64"
      ]
     },
     "execution_count": 17,
     "metadata": {},
     "output_type": "execute_result"
    }
   ],
   "source": [
    "dfz.groupby('is_whale').mean()['fraction_success_n']"
   ]
  },
  {
   "cell_type": "markdown",
   "id": "c3fda74a-9800-4c09-bf97-18bd731bc2cf",
   "metadata": {},
   "source": [
    "# H2\n",
    "\n",
    "Whales are the only voters casting a significant fraction of **No** votes (fraction < 1 below)\n",
    "\n",
    "H2.a) Most voters are always voting yes on projects -- **true for most non-whales**\n",
    "\n",
    "H2.b) Some voters are always voting no on projects -- **true for some whales**"
   ]
  },
  {
   "cell_type": "code",
   "execution_count": 194,
   "id": "4b5d4681-94f5-4f3a-a50d-b2c2faf42aba",
   "metadata": {},
   "outputs": [
    {
     "data": {
      "text/plain": [
       "array([<AxesSubplot:title={'center':'False'}>,\n",
       "       <AxesSubplot:title={'center':'True'}>], dtype=object)"
      ]
     },
     "execution_count": 194,
     "metadata": {},
     "output_type": "execute_result"
    },
    {
     "data": {
      "image/png": "[encoded data removed]",
      "text/plain": [
       "<Figure size 432x288 with 2 Axes>"
      ]
     },
     "metadata": {
      "needs_background": "light"
     },
     "output_type": "display_data"
    }
   ],
   "source": [
    "dfz['fraction_y'].hist(by=dfz['is_whale'])"
   ]
  },
  {
   "cell_type": "code",
   "execution_count": null,
   "id": "6c3f4752-87d3-4739-aff6-e35ddd837293",
   "metadata": {},
   "outputs": [],
   "source": []
  }
 ],
 "metadata": {
  "kernelspec": {
   "display_name": "Python 3 (ipykernel)",
   "language": "python",
   "name": "python3"
  },
  "language_info": {
   "codemirror_mode": {
    "name": "ipython",
    "version": 3
   },
   "file_extension": ".py",
   "mimetype": "text/x-python",
   "name": "python",
   "nbconvert_exporter": "python",
   "pygments_lexer": "ipython3",
   "version": "3.9.7"
  }
 },
 "nbformat": 4,
 "nbformat_minor": 5
}
